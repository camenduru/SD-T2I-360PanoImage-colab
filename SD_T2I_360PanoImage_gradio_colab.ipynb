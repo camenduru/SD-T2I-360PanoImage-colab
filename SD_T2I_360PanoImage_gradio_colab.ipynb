{
  "cells": [
    {
      "cell_type": "markdown",
      "metadata": {
        "id": "view-in-github"
      },
      "source": [
        "[![Open In Colab](https://colab.research.google.com/assets/colab-badge.svg)](https://colab.research.google.com/github/camenduru/SD-T2I-360PanoImage-colab/blob/main/SD_T2I_360PanoImage_gradio_colab.ipynb)"
      ]
    },
    {
      "cell_type": "code",
      "execution_count": null,
      "metadata": {
        "id": "VjYy0F2gZIPR"
      },
      "outputs": [],
      "source": [
        "%cd /content\n",
        "!git clone -b dev https://github.com/camenduru/SD-T2I-360PanoImage\n",
        "%cd /content/SD-T2I-360PanoImage\n",
        "!git clone https://huggingface.co/camenduru/sd-t2i-360panoimage /content/SD-T2I-360PanoImage/models\n",
        "!pip install diffusers transformers accelerate realesrgan==0.3.0\n",
        "!pip install -q https://download.pytorch.org/whl/cu118/xformers-0.0.22.post4%2Bcu118-cp310-cp310-manylinux2014_x86_64.whl\n",
        "!pip install /content/SD-T2I-360PanoImage\n",
        "!pip install -q gradio gradio-pannellum\n",
        "\n",
        "%cd /content/SD-T2I-360PanoImage\n",
        "import torch\n",
        "from txt2panoimg import Text2360PanoramaImagePipeline\n",
        "txt2panoimg = Text2360PanoramaImagePipeline('./models', torch_dtype=torch.float16, enable_xformers_memory_efficient_attention=True)\n",
        "\n",
        "import gradio as gr\n",
        "from gradio_pannellum import Pannellum\n",
        "\n",
        "def generate(prompt):\n",
        "  input = {'prompt': prompt, 'upscale': False}\n",
        "  output = txt2panoimg(input)\n",
        "  output.save('result.png')\n",
        "  return output\n",
        "\n",
        "with gr.Blocks(css=\"style.css\", title=f\"Realtime Latent Consistency Model\") as demo:\n",
        "    with gr.Column():\n",
        "      textbox = gr.Textbox(show_label=False, value=\"The living room\")\n",
        "      button = gr.Button(value=\"Generate\")\n",
        "\n",
        "    with gr.Row(variant=\"default\"):\n",
        "      output_image = Pannellum(show_label=False, interactive=True, show_download_button=True)\n",
        "\n",
        "    button.click(fn=generate, inputs=[textbox], outputs=[output_image], show_progress=True)\n",
        "\n",
        "demo.launch(inline=False, share=True, debug=True)"
      ]
    }
  ],
  "metadata": {
    "accelerator": "GPU",
    "colab": {
      "gpuType": "T4",
      "provenance": []
    },
    "kernelspec": {
      "display_name": "Python 3",
      "name": "python3"
    },
    "language_info": {
      "name": "python"
    }
  },
  "nbformat": 4,
  "nbformat_minor": 0
}
